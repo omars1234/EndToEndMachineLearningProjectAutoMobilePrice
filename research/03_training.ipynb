{
 "cells": [
  {
   "cell_type": "code",
   "execution_count": 2,
   "metadata": {},
   "outputs": [],
   "source": [
    "import os"
   ]
  },
  {
   "cell_type": "code",
   "execution_count": 3,
   "metadata": {},
   "outputs": [
    {
     "data": {
      "text/plain": [
       "'c:\\\\Users\\\\Omar\\\\Desktop\\\\Omar_Files\\\\Python_Analysis\\\\EndToEndMachineLearningProjectAutoMobilePrice\\\\research'"
      ]
     },
     "execution_count": 3,
     "metadata": {},
     "output_type": "execute_result"
    }
   ],
   "source": [
    "%pwd"
   ]
  },
  {
   "cell_type": "code",
   "execution_count": 4,
   "metadata": {},
   "outputs": [],
   "source": [
    "os.chdir(\"../\")"
   ]
  },
  {
   "cell_type": "code",
   "execution_count": 5,
   "metadata": {},
   "outputs": [
    {
     "data": {
      "text/plain": [
       "'c:\\\\Users\\\\Omar\\\\Desktop\\\\Omar_Files\\\\Python_Analysis\\\\EndToEndMachineLearningProjectAutoMobilePrice'"
      ]
     },
     "execution_count": 5,
     "metadata": {},
     "output_type": "execute_result"
    }
   ],
   "source": [
    "%pwd"
   ]
  },
  {
   "cell_type": "code",
   "execution_count": 6,
   "metadata": {},
   "outputs": [],
   "source": [
    "from dataclasses import dataclass\n",
    "from pathlib import Path\n",
    "\n",
    "\n",
    "@dataclass(frozen=True)\n",
    "class TrainingConfig:\n",
    "    root_dir:Path\n",
    "    trained_model_file_path:Path\n",
    "    updated_base_model_path:Path\n",
    "    training_data:Path\n",
    "    testing_data:Path\n",
    "    subsample:float\n",
    "    n_estimators:int\n",
    "    min_samples_split:int\n",
    "    min_samples_leaf:int\n",
    "    max_depth:int\n",
    "    learning_rate:float"
   ]
  },
  {
   "cell_type": "code",
   "execution_count": 7,
   "metadata": {},
   "outputs": [],
   "source": [
    "from src.AutoMobilePriceRegression.constants import *\n",
    "from src.AutoMobilePriceRegression.utils.common import read_yaml, create_directories"
   ]
  },
  {
   "cell_type": "code",
   "execution_count": 8,
   "metadata": {},
   "outputs": [],
   "source": [
    "class ConfigurationManager:\n",
    "    def __init__(\n",
    "        self,\n",
    "        config_filepath = CONFIG_FILE_PATH,\n",
    "        params_filepath = PARAMS_FILE_PATH,):\n",
    "\n",
    "        self.config = read_yaml(config_filepath)\n",
    "        self.params = read_yaml(params_filepath)\n",
    "\n",
    "        create_directories([self.config.artifacts_root])\n",
    "\n",
    "\n",
    "    \n",
    "    def get_training_config(self) -> TrainingConfig:\n",
    "        training = self.config.training\n",
    "        params=self.params.GradientBoostingRegressor\n",
    "        prepare_base_model=self.config.prepare_base_model\n",
    "        training_data=os.path.join(self.config.data_ingestion.train_data_path,\"train_data.csv\")\n",
    "        testing_data=os.path.join(self.config.data_ingestion.test_data_path,\"test_data.csv\")\n",
    "        \n",
    "\n",
    "        create_directories([training.root_dir])\n",
    "\n",
    "        training_config = TrainingConfig(\n",
    "            root_dir=Path(training.root_dir),\n",
    "            trained_model_file_path=Path(training.trained_model_file_path),\n",
    "            updated_base_model_path=Path(prepare_base_model.updated_base_model_path),\n",
    "            training_data=Path(training_data),\n",
    "            testing_data=Path(testing_data),\n",
    "            subsample=params.SUBSAMPLE,\n",
    "            n_estimators=params.N_ESTIMATORS,\n",
    "            min_samples_split=params.MIN_SAMPLES_SPLIT,\n",
    "            min_samples_leaf=params.MIN_SAMPLES_LEAF,\n",
    "            max_depth=params.MAX_DEPTH,\n",
    "            learning_rate=params.LEARNING_RATE\n",
    "    \n",
    "\n",
    "        )\n",
    "\n",
    "        return training_config"
   ]
  },
  {
   "cell_type": "code",
   "execution_count": 9,
   "metadata": {},
   "outputs": [],
   "source": [
    "import os\n",
    "import urllib.request as request\n",
    "from sklearn.ensemble import GradientBoostingRegressor\n",
    "import time\n",
    "from sklearn.metrics import r2_score\n",
    "from sklearn.metrics import r2_score,mean_absolute_percentage_error\n",
    "#from PriceRegression.utils.common import evaluate_models\n",
    "import pickle\n",
    "import pandas as pd\n",
    "from numpy import loadtxt"
   ]
  },
  {
   "cell_type": "code",
   "execution_count": 10,
   "metadata": {},
   "outputs": [],
   "source": [
    "class Training:\n",
    "    def __init__(self,config:TrainingConfig):\n",
    "        self.config= config\n",
    "\n",
    "    def initiate_Training(self):   \n",
    "        \n",
    "        input_feature_train_arr=loadtxt('artifacts/prepare_base_model/train_data', delimiter=',')\n",
    "        input_feature_test_arr=loadtxt('artifacts/prepare_base_model/test_data', delimiter=',')\n",
    "        x_train,y_train,x_test,y_test=(\n",
    "            input_feature_train_arr[:,:-1],\n",
    "            input_feature_train_arr[:,-1],\n",
    "            input_feature_test_arr[:,:-1],\n",
    "            input_feature_test_arr[:,-1]\n",
    "        )\n",
    "        model=GradientBoostingRegressor(\n",
    "                subsample=self.config.subsample,\n",
    "                n_estimators=self.config.n_estimators,\n",
    "                min_samples_split=self.config.min_samples_split,\n",
    "                min_samples_leaf=self.config.min_samples_leaf,\n",
    "                max_depth=self.config.max_depth,\n",
    "                learning_rate=self.config.learning_rate\n",
    "        )\n",
    "        model.fit(x_train,y_train)\n",
    "\n",
    "        import pickle\n",
    "        with open (\"./artifacts/final_model.pkl\",\"wb\") as f:\n",
    "           pickle.dump(model,f)"
   ]
  },
  {
   "cell_type": "code",
   "execution_count": 11,
   "metadata": {},
   "outputs": [
    {
     "name": "stdout",
     "output_type": "stream",
     "text": [
      "[2024-07-05 17:50:30,724: INFO: common: yaml file: config\\config.yaml loaded successfully]\n",
      "[2024-07-05 17:50:30,729: INFO: common: yaml file: params.yaml loaded successfully]\n",
      "[2024-07-05 17:50:30,732: INFO: common: created directory at: artifacts]\n",
      "[2024-07-05 17:50:30,735: INFO: common: created directory at: artifacts/training]\n"
     ]
    }
   ],
   "source": [
    "try:\n",
    "    config = ConfigurationManager()\n",
    "    training_config = config.get_training_config()\n",
    "    training = Training(config=training_config)\n",
    "    training.initiate_Training()\n",
    "except Exception as e:\n",
    "    raise e"
   ]
  },
  {
   "cell_type": "code",
   "execution_count": null,
   "metadata": {},
   "outputs": [],
   "source": []
  }
 ],
 "metadata": {
  "kernelspec": {
   "display_name": "Python 3",
   "language": "python",
   "name": "python3"
  },
  "language_info": {
   "codemirror_mode": {
    "name": "ipython",
    "version": 3
   },
   "file_extension": ".py",
   "mimetype": "text/x-python",
   "name": "python",
   "nbconvert_exporter": "python",
   "pygments_lexer": "ipython3",
   "version": "3.10.8"
  }
 },
 "nbformat": 4,
 "nbformat_minor": 2
}
