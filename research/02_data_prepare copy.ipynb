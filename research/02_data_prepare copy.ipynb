{
 "cells": [
  {
   "cell_type": "code",
   "execution_count": 2,
   "metadata": {},
   "outputs": [],
   "source": [
    "import os"
   ]
  },
  {
   "cell_type": "code",
   "execution_count": 3,
   "metadata": {},
   "outputs": [
    {
     "data": {
      "text/plain": [
       "'c:\\\\Users\\\\Omar\\\\Desktop\\\\Omar_Files\\\\Python_Analysis\\\\EndToEndMachineLearningProjectAutoMobilePrice\\\\research'"
      ]
     },
     "execution_count": 3,
     "metadata": {},
     "output_type": "execute_result"
    }
   ],
   "source": [
    "%pwd"
   ]
  },
  {
   "cell_type": "code",
   "execution_count": 4,
   "metadata": {},
   "outputs": [],
   "source": [
    "os.chdir(\"../\")"
   ]
  },
  {
   "cell_type": "code",
   "execution_count": 32,
   "metadata": {},
   "outputs": [
    {
     "data": {
      "text/plain": [
       "'c:\\\\Users\\\\Omar\\\\Desktop\\\\Omar_Files\\\\Python_Analysis\\\\EndToEndMachineLearningProjectAutoMobilePrice'"
      ]
     },
     "execution_count": 32,
     "metadata": {},
     "output_type": "execute_result"
    }
   ],
   "source": [
    "%pwd"
   ]
  },
  {
   "cell_type": "code",
   "execution_count": 33,
   "metadata": {},
   "outputs": [],
   "source": [
    "from dataclasses import dataclass\n",
    "from pathlib import Path\n",
    "import pickle\n",
    "\n",
    "\n",
    "@dataclass(frozen=True)\n",
    "class PrepareBaseModelConfig:\n",
    "    root_dir: Path\n",
    "    base_model_path:Path\n",
    "    #updated_base_model_path:Path\n",
    "    source_URL: Path\n",
    "    local_data_file_path:Path\n",
    "    train_data_path: Path\n",
    "    test_data_path: Path"
   ]
  },
  {
   "cell_type": "code",
   "execution_count": 34,
   "metadata": {},
   "outputs": [],
   "source": [
    "from src.AutoMobilePriceRegression.constants import *\n",
    "from src.AutoMobilePriceRegression.utils.common import read_yaml, create_directories"
   ]
  },
  {
   "cell_type": "code",
   "execution_count": 35,
   "metadata": {},
   "outputs": [],
   "source": [
    "class ConfigurationManager:\n",
    "    def __init__(\n",
    "        self,\n",
    "        config_filepath = CONFIG_FILE_PATH,\n",
    "        params_filepath = PARAMS_FILE_PATH):\n",
    "\n",
    "        self.config = read_yaml(config_filepath)\n",
    "        self.params = read_yaml(params_filepath)\n",
    "\n",
    "        create_directories([self.config.artifacts_root])\n",
    "\n",
    "\n",
    "    def get_prepare_base_model_config(self) -> PrepareBaseModelConfig:\n",
    "        config = self.config.prepare_base_model\n",
    "        \n",
    "        create_directories([config.root_dir])\n",
    "\n",
    "        prepare_base_model_config = PrepareBaseModelConfig(\n",
    "            root_dir=Path(config.root_dir),\n",
    "            base_model_path=Path(config.base_model_path),\n",
    "            #updated_base_model_path=Path(config.updated_base_model_path),\n",
    "            source_URL=config.source_URL,\n",
    "            local_data_file_path=config.local_data_file_path,\n",
    "            train_data_path= config.train_data_path,\n",
    "            test_data_path=config.test_data_path        \n",
    "            \n",
    "        )\n",
    "\n",
    "        return prepare_base_model_config"
   ]
  },
  {
   "cell_type": "code",
   "execution_count": 36,
   "metadata": {},
   "outputs": [],
   "source": [
    "import sys\n",
    "import numpy as np \n",
    "import pandas as pd\n",
    "from sklearn.compose import ColumnTransformer\n",
    "from sklearn.impute import SimpleImputer\n",
    "from sklearn.pipeline import Pipeline\n",
    "from sklearn.preprocessing import LabelEncoder,StandardScaler,OneHotEncoder\n",
    "from src.AutoMobilePriceRegression import logger\n",
    "from src.AutoMobilePriceRegression.utils.common import get_size\n",
    "#from src.AutoMobilePriceRegression.components.data_ingestion import DataIngestion\n",
    "from sklearn.model_selection import train_test_split\n",
    "from sklearn.ensemble import GradientBoostingRegressor\n",
    "from sklearn.preprocessing import OrdinalEncoder"
   ]
  },
  {
   "cell_type": "code",
   "execution_count": 37,
   "metadata": {},
   "outputs": [],
   "source": [
    "class PrepareBaseModel:\n",
    "    def __init__(self,config:PrepareBaseModelConfig):\n",
    "        self.config= config\n",
    "\n",
    "    def download_file(self):\n",
    "        if not os.path.exists(self.config.local_data_file_path):\n",
    "            df=pd.read_csv(self.config.source_URL)\n",
    "            df.to_csv(self.config.local_data_file_path,index=False,header=True)\n",
    "            CatEncod=LabelEncoder()\n",
    "            categorical_columns = ['num_of_doors', 'body_style', 'drive_wheels',\n",
    "                                   'engine_location','num_of_cylinders', 'fuel_system']\n",
    "\n",
    "            for col in df:\n",
    "                 if col in categorical_columns:\n",
    "                      df[col]=CatEncod.fit_transform(df[col])\n",
    "                              \n",
    "                      \n",
    "            train_set,test_set=train_test_split(df,test_size=0.2,random_state=42)\n",
    "\n",
    "            if not os.path.exists(self.config.train_data_path):\n",
    "                        train_set.to_csv(self.config.train_data_path,index=False,header=True)            \n",
    "                \n",
    "            if not os.path.exists(self.config.test_data_path):\n",
    "                        test_set.to_csv(self.config.test_data_path,index=False,header=True) \n",
    "\n",
    "            import pickle\n",
    "            with open (\"./artifacts/model_CatEncod.pkl\",\"wb\") as f:\n",
    "                pickle.dump(CatEncod,f)             \n",
    "\n",
    "            return(\n",
    "                        self.config.train_data_path,\n",
    "                        self.config.test_data_path\n",
    "                    )\n",
    "\n",
    "    def initiate_data_transformation(self): \n",
    "        train_df=pd.read_csv(r\"./artifacts/prepare_base_model/train_data.csv\")\n",
    "        test_df=pd.read_csv(r\"./artifacts/prepare_base_model/test_data.csv\")\n",
    "\n",
    "        logger.info(\"Read train and test data completed\")\n",
    "\n",
    "        sc=StandardScaler()     \n",
    "\n",
    "        target_column_name=\"price\"\n",
    "        \n",
    "        input_feature_train_df=train_df.drop(target_column_name,axis=1)\n",
    "        target_feature_train_df=train_df[target_column_name]\n",
    "\n",
    "        input_feature_test_df=test_df.drop(target_column_name,axis=1)\n",
    "        target_feature_test_df=test_df[target_column_name]     \n",
    "\n",
    "        input_feature_train_arr=sc.fit_transform(input_feature_train_df)\n",
    "        input_feature_test_arr=sc.transform(input_feature_test_df)\n",
    "\n",
    "        train_arr = np.c_[\n",
    "                input_feature_train_arr, np.array(target_feature_train_df)\n",
    "                ]\n",
    "        test_arr = np.c_[\n",
    "                 input_feature_test_arr, np.array(target_feature_test_df)\n",
    "                 ]\n",
    "        \n",
    "        if not os.path.exists(self.config.train_data_path):\n",
    "                train_arr = pd.DataFrame(train_arr)#columns=[colnames])\n",
    "                train_arr.to_csv(self.config.train_data_path,index=False)\n",
    "        if not os.path.exists(self.config.test_data_path):\n",
    "                test_arr = pd.DataFrame(test_arr)#,columns=[colnames])\n",
    "                test_arr.to_csv(self.config.test_data_path,index=False)        \n",
    "\n",
    "        return(\n",
    "                self.config.train_data_path,\n",
    "                self.config.test_data_path\n",
    "         \n",
    "        )      "
   ]
  },
  {
   "cell_type": "code",
   "execution_count": 38,
   "metadata": {},
   "outputs": [
    {
     "name": "stdout",
     "output_type": "stream",
     "text": [
      "[2024-07-14 15:43:11,997: INFO: common: yaml file: config\\config.yaml loaded successfully]\n",
      "[2024-07-14 15:43:12,000: INFO: common: yaml file: params.yaml loaded successfully]\n",
      "[2024-07-14 15:43:12,002: INFO: common: created directory at: artifacts]\n",
      "[2024-07-14 15:43:12,005: INFO: common: created directory at: artifacts/prepare_base_model]\n",
      "[2024-07-14 15:43:12,049: INFO: 636616641: Read train and test data completed]\n"
     ]
    }
   ],
   "source": [
    "try:\n",
    "    config = ConfigurationManager()\n",
    "    prepare_base_model_config = config.get_prepare_base_model_config()\n",
    "    prepare_base_model = PrepareBaseModel(prepare_base_model_config)\n",
    "    prepare_base_model.download_file()\n",
    "    prepare_base_model.initiate_data_transformation()\n",
    "except Exception as e:\n",
    "    raise e"
   ]
  },
  {
   "cell_type": "code",
   "execution_count": null,
   "metadata": {},
   "outputs": [],
   "source": []
  }
 ],
 "metadata": {
  "kernelspec": {
   "display_name": "Python 3",
   "language": "python",
   "name": "python3"
  },
  "language_info": {
   "codemirror_mode": {
    "name": "ipython",
    "version": 3
   },
   "file_extension": ".py",
   "mimetype": "text/x-python",
   "name": "python",
   "nbconvert_exporter": "python",
   "pygments_lexer": "ipython3",
   "version": "3.10.8"
  }
 },
 "nbformat": 4,
 "nbformat_minor": 2
}
