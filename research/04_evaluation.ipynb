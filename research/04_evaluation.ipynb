{
 "cells": [
  {
   "cell_type": "code",
   "execution_count": 2,
   "metadata": {},
   "outputs": [],
   "source": [
    "import os"
   ]
  },
  {
   "cell_type": "code",
   "execution_count": 3,
   "metadata": {},
   "outputs": [
    {
     "data": {
      "text/plain": [
       "'c:\\\\Users\\\\Omar\\\\Desktop\\\\Omar_Files\\\\Python_Analysis\\\\EndToEndMachineLearningProjectAutoMobilePrice\\\\research'"
      ]
     },
     "execution_count": 3,
     "metadata": {},
     "output_type": "execute_result"
    }
   ],
   "source": [
    "%pwd"
   ]
  },
  {
   "cell_type": "code",
   "execution_count": 4,
   "metadata": {},
   "outputs": [],
   "source": [
    "os.chdir(\"../\")"
   ]
  },
  {
   "cell_type": "code",
   "execution_count": 21,
   "metadata": {},
   "outputs": [
    {
     "data": {
      "text/plain": [
       "'c:\\\\Users\\\\Omar\\\\Desktop\\\\Omar_Files\\\\Python_Analysis\\\\EndToEndMachineLearningProjectAutoMobilePrice'"
      ]
     },
     "execution_count": 21,
     "metadata": {},
     "output_type": "execute_result"
    }
   ],
   "source": [
    "%pwd"
   ]
  },
  {
   "cell_type": "code",
   "execution_count": 22,
   "metadata": {},
   "outputs": [],
   "source": [
    "from dataclasses import dataclass\n",
    "from pathlib import Path\n",
    "\n",
    "\n",
    "@dataclass(frozen=True)\n",
    "class ModelEvaluationConfig:\n",
    "    root_dir:Path\n",
    "    model_path:Path\n",
    "    all_params:dict\n",
    "    metrix_file_name:Path\n",
    "    training_data:Path\n",
    "    testing_data:Path\n",
    "    #mlflow_uri: str   "
   ]
  },
  {
   "cell_type": "code",
   "execution_count": 16,
   "metadata": {},
   "outputs": [],
   "source": [
    "from AutoMobilePriceRegression.constants import *\n",
    "from AutoMobilePriceRegression.utils.common import read_yaml, create_directories,save_json,load_json"
   ]
  },
  {
   "cell_type": "code",
   "execution_count": 17,
   "metadata": {},
   "outputs": [],
   "source": [
    "class ConfigurationManager:\n",
    "    def __init__(\n",
    "        self,\n",
    "        config_filepath = CONFIG_FILE_PATH,\n",
    "        params_filepath = PARAMS_FILE_PATH):\n",
    "\n",
    "        self.config = read_yaml(config_filepath)\n",
    "        self.params = read_yaml(params_filepath)\n",
    "\n",
    "        create_directories([self.config.artifacts_root])\n",
    "\n",
    "\n",
    "    \n",
    "    def get_model_evaluation_config(self) -> ModelEvaluationConfig:\n",
    "        config = self.config.model_evaluation\n",
    "        params=self.params.GradientBoostingRegressor\n",
    "\n",
    "        create_directories([config.root_dir])\n",
    "\n",
    "        model_evaluation_config = ModelEvaluationConfig(\n",
    "            root_dir=Path(config.root_dir),\n",
    "            model_path=Path(config.model_path),\n",
    "            all_params=params,\n",
    "            metrix_file_name=Path(config.metrix_file_name),\n",
    "            training_data=Path(config.training_data),\n",
    "            testing_data=Path(config.testing_data),\n",
    "            #mlflow_uri=\"https://dagshub.com/omars1234/Regression_Analysis.mlflow\" \n",
    "        )\n",
    "\n",
    "        return model_evaluation_config"
   ]
  },
  {
   "cell_type": "code",
   "execution_count": 18,
   "metadata": {},
   "outputs": [],
   "source": [
    "import pickle\n",
    "import pandas as pd\n",
    "import numpy as np\n",
    "from numpy import loadtxt\n",
    "\n",
    "import urllib.request as request\n",
    "from urllib.parse import urlparse\n",
    "from sklearn.ensemble import GradientBoostingRegressor\n",
    "from sklearn.metrics import r2_score,mean_squared_error\n",
    "#import mlflow\n",
    "#import mlflow.sklearn\n",
    "import time"
   ]
  },
  {
   "cell_type": "code",
   "execution_count": 19,
   "metadata": {},
   "outputs": [
    {
     "data": {
      "text/plain": [
       "'\\n    def log_into_mlflow(self):\\n\\n        with open(\"./artifacts/final_model.pkl\",\"rb\") as f:\\n           loaded_model=pickle.load(f)\\n        \\n        test_data=loadtxt(\\'artifacts/prepare_base_model/test_data\\', delimiter=\\',\\')\\n        x_test,y_test=(\\n            \\n            test_data[:,:-1],\\n            test_data[:,-1]\\n            )\\n        \\n\\n        mlflow.set_registry_uri(self.config.mlflow_uri)\\n        tracking_url_type_store = urlparse(mlflow.get_tracking_uri()).scheme\\n        \\n        with mlflow.start_run():\\n            predicted=loaded_model.predict(x_test)\\n            (rmse,mse,r2score)=self.evaluation_metrics(y_test,predicted)\\n\\n            Scores={\"rmse\":rmse,\"mse\":mse,\"r2score\":r2score}\\n            save_json(path=Path(\"scores.json\"),data=Scores)\\n            \\n        \\n            mlflow.log_metrics(\\n                {\"rmse\": rmse,\"mse\":mse ,\"r2score\": r2score}\\n                )\\n            mlflow.log_params(self.config.all_params)\\n\\n\\n            if tracking_url_type_store != \"file\":\\n\\n                mlflow.sklearn.log_model(loaded_model, \"model\", registered_model_name=\"Price Regression\")\\n            else:\\n                mlflow.sklearn.log_model(loaded_model, \"model\") \\n'"
      ]
     },
     "execution_count": 19,
     "metadata": {},
     "output_type": "execute_result"
    }
   ],
   "source": [
    "class ModelEvaluation:\n",
    "    def __init__(self,config:ModelEvaluationConfig):\n",
    "        self.config= config\n",
    "\n",
    "    def evaluation_metrics(self):\n",
    "        with open(\"./artifacts/final_model.pkl\",\"rb\") as f:\n",
    "           loaded_model=pickle.load(f)\n",
    "        \n",
    "        test_data=pd.read_csv('artifacts/prepare_base_model/test_data.csv', delimiter=',')\n",
    "        x_test,y_test=(\n",
    "            \n",
    "            test_data.drop(\"price\",axis=1),\n",
    "            test_data[\"price\"]\n",
    "            )      \n",
    "        rmse=np.sqrt(mean_squared_error(y_test,loaded_model.predict(x_test)))\n",
    "        mse=mean_squared_error(y_test,loaded_model.predict(x_test))\n",
    "        r2score=r2_score(y_test,loaded_model.predict(x_test))\n",
    "        Scores={\"rmse\":rmse,\"mse\":mse,\"r2score\":r2score}\n",
    "        save_json(path=Path(\"scores.json\"),data=Scores)\n",
    "        #return rmse,mse,r2score\n",
    "    \n",
    "\"\"\"\n",
    "    def log_into_mlflow(self):\n",
    "\n",
    "        with open(\"./artifacts/final_model.pkl\",\"rb\") as f:\n",
    "           loaded_model=pickle.load(f)\n",
    "        \n",
    "        test_data=loadtxt('artifacts/prepare_base_model/test_data', delimiter=',')\n",
    "        x_test,y_test=(\n",
    "            \n",
    "            test_data[:,:-1],\n",
    "            test_data[:,-1]\n",
    "            )\n",
    "        \n",
    "\n",
    "        mlflow.set_registry_uri(self.config.mlflow_uri)\n",
    "        tracking_url_type_store = urlparse(mlflow.get_tracking_uri()).scheme\n",
    "        \n",
    "        with mlflow.start_run():\n",
    "            predicted=loaded_model.predict(x_test)\n",
    "            (rmse,mse,r2score)=self.evaluation_metrics(y_test,predicted)\n",
    "\n",
    "            Scores={\"rmse\":rmse,\"mse\":mse,\"r2score\":r2score}\n",
    "            save_json(path=Path(\"scores.json\"),data=Scores)\n",
    "            \n",
    "        \n",
    "            mlflow.log_metrics(\n",
    "                {\"rmse\": rmse,\"mse\":mse ,\"r2score\": r2score}\n",
    "                )\n",
    "            mlflow.log_params(self.config.all_params)\n",
    "\n",
    "\n",
    "            if tracking_url_type_store != \"file\":\n",
    "\n",
    "                mlflow.sklearn.log_model(loaded_model, \"model\", registered_model_name=\"Price Regression\")\n",
    "            else:\n",
    "                mlflow.sklearn.log_model(loaded_model, \"model\") \n",
    "\"\"\"              \n",
    "        "
   ]
  },
  {
   "cell_type": "code",
   "execution_count": 20,
   "metadata": {},
   "outputs": [
    {
     "name": "stdout",
     "output_type": "stream",
     "text": [
      "[2024-07-14 14:28:06,216: INFO: common: yaml file: config\\config.yaml loaded successfully]\n",
      "[2024-07-14 14:28:06,220: INFO: common: yaml file: params.yaml loaded successfully]\n",
      "[2024-07-14 14:28:06,222: INFO: common: created directory at: artifacts]\n",
      "[2024-07-14 14:28:06,224: INFO: common: created directory at: artifacts/model_evaluation]\n",
      "[2024-07-14 14:28:06,255: INFO: common: json file saved at: scores.json]\n"
     ]
    }
   ],
   "source": [
    "try:\n",
    "    config = ConfigurationManager()\n",
    "    model_evaluation_config = config.get_model_evaluation_config()\n",
    "    model_evaluation_config = ModelEvaluation(config=model_evaluation_config)\n",
    "    model_evaluation_config.evaluation_metrics()\n",
    "    #model_evaluation_config.log_into_mlflow()\n",
    "except Exception as e:\n",
    "    raise e"
   ]
  },
  {
   "cell_type": "code",
   "execution_count": null,
   "metadata": {},
   "outputs": [],
   "source": []
  }
 ],
 "metadata": {
  "kernelspec": {
   "display_name": "Python 3",
   "language": "python",
   "name": "python3"
  },
  "language_info": {
   "codemirror_mode": {
    "name": "ipython",
    "version": 3
   },
   "file_extension": ".py",
   "mimetype": "text/x-python",
   "name": "python",
   "nbconvert_exporter": "python",
   "pygments_lexer": "ipython3",
   "version": "3.10.8"
  }
 },
 "nbformat": 4,
 "nbformat_minor": 2
}
