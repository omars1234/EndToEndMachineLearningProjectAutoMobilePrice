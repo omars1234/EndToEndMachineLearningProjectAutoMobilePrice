{
 "cells": [
  {
   "cell_type": "code",
   "execution_count": 1,
   "metadata": {},
   "outputs": [],
   "source": [
    "import os"
   ]
  },
  {
   "cell_type": "code",
   "execution_count": 2,
   "metadata": {},
   "outputs": [
    {
     "data": {
      "text/plain": [
       "'c:\\\\Users\\\\Omar\\\\Desktop\\\\Omar_Files\\\\Python_Analysis\\\\EndToEndMachineLearningProjectAutoMobilePrice\\\\research'"
      ]
     },
     "execution_count": 2,
     "metadata": {},
     "output_type": "execute_result"
    }
   ],
   "source": [
    "%pwd"
   ]
  },
  {
   "cell_type": "code",
   "execution_count": 3,
   "metadata": {},
   "outputs": [],
   "source": [
    "os.chdir(\"../\")"
   ]
  },
  {
   "cell_type": "code",
   "execution_count": 4,
   "metadata": {},
   "outputs": [
    {
     "data": {
      "text/plain": [
       "'c:\\\\Users\\\\Omar\\\\Desktop\\\\Omar_Files\\\\Python_Analysis\\\\EndToEndMachineLearningProjectAutoMobilePrice'"
      ]
     },
     "execution_count": 4,
     "metadata": {},
     "output_type": "execute_result"
    }
   ],
   "source": [
    "%pwd"
   ]
  },
  {
   "cell_type": "code",
   "execution_count": 31,
   "metadata": {},
   "outputs": [],
   "source": [
    "from dataclasses import dataclass\n",
    "from pathlib import Path\n",
    "\n",
    "\n",
    "@dataclass(frozen=True)\n",
    "class TrainingConfig:\n",
    "    root_dir:Path\n",
    "    train_data_path:Path\n",
    "    test_data_path:Path\n",
    "    model_name:str \n",
    "    target_column:str\n",
    "    subsample: float\n",
    "    n_estimators: int\n",
    "    min_samples_split: int\n",
    "    min_samples_leaf: int \n",
    "    max_depth: int\n",
    "    learning_rate: float    "
   ]
  },
  {
   "cell_type": "code",
   "execution_count": 32,
   "metadata": {},
   "outputs": [],
   "source": [
    "from src.AutoMobilePriceRegression.constants import *\n",
    "from src.AutoMobilePriceRegression.utils.common import read_yaml, create_directories"
   ]
  },
  {
   "cell_type": "code",
   "execution_count": 33,
   "metadata": {},
   "outputs": [],
   "source": [
    "class ConfigurationManager:\n",
    "    def __init__(self,\n",
    "                 config_filepath=CONFIG_FILE_PATH,\n",
    "                 params_filepath=PARAMS_FILE_PATH,\n",
    "                 schema_filepath=SCHEMA_FILE_PATH) -> None:\n",
    "        \n",
    "        self.config=read_yaml(config_filepath)\n",
    "        self.params=read_yaml(params_filepath)\n",
    "        self.schema=read_yaml(schema_filepath)\n",
    "\n",
    "        create_directories([self.config.artifacts_root])  \n",
    "\n",
    "\n",
    "    \n",
    "    def get_training_config(self)-> TrainingConfig:\n",
    "        config=self.config.training\n",
    "        params=self.params.GradientBoostingRegressor\n",
    "        schema=self.schema.TARGET_COLUMN\n",
    "        \n",
    "\n",
    "        create_directories([config.root_dir])\n",
    "\n",
    "        training_config = TrainingConfig(\n",
    "            root_dir=config.root_dir,\n",
    "            train_data_path=config.train_data_path,\n",
    "            test_data_path=config.test_data_path,\n",
    "            model_name=config.model_name,\n",
    "            target_column=schema.name,\n",
    "            subsample=params.subsample,\n",
    "            n_estimators=params.n_estimators,\n",
    "            min_samples_split=params.min_samples_split,\n",
    "            min_samples_leaf=params.min_samples_leaf,\n",
    "            max_depth=params.max_depth,\n",
    "            learning_rate=params.learning_rate    \n",
    "\n",
    "        )\n",
    "\n",
    "        return training_config"
   ]
  },
  {
   "cell_type": "code",
   "execution_count": 34,
   "metadata": {},
   "outputs": [],
   "source": [
    "import os\n",
    "import urllib.request as request\n",
    "from sklearn.ensemble import GradientBoostingRegressor\n",
    "import time\n",
    "from sklearn.metrics import r2_score\n",
    "from sklearn.metrics import r2_score,mean_absolute_percentage_error\n",
    "import pickle,joblib\n",
    "import pandas as pd"
   ]
  },
  {
   "cell_type": "code",
   "execution_count": 35,
   "metadata": {},
   "outputs": [],
   "source": [
    "class Training:\n",
    "    def __init__(self,config:TrainingConfig):\n",
    "        self.config= config\n",
    "\n",
    "    def initiate_Training(self):\n",
    "        train_data=pd.read_csv(self.config.train_data_path)\n",
    "        test_data=pd.read_csv(self.config.test_data_path)\n",
    "        x_train,y_train,x_test,y_test=(\n",
    "            train_data.drop(self.config.target_column,axis=1),train_data[self.config.target_column],\n",
    "            test_data.drop(self.config.target_column,axis=1),test_data[self.config.target_column]\n",
    "        )    \n",
    "\n",
    "        model=GradientBoostingRegressor(\n",
    "                subsample=self.config.subsample,\n",
    "                n_estimators=self.config.n_estimators,\n",
    "                min_samples_split=self.config.min_samples_split,\n",
    "                min_samples_leaf=self.config.min_samples_leaf,\n",
    "                max_depth=self.config.max_depth,\n",
    "                learning_rate=self.config.learning_rate\n",
    "        )\n",
    "        model.fit(x_train,y_train)\n",
    "\n",
    "        joblib.dump(model,os.path.join(self.config.root_dir,self.config.model_name))"
   ]
  },
  {
   "cell_type": "code",
   "execution_count": 36,
   "metadata": {},
   "outputs": [
    {
     "name": "stdout",
     "output_type": "stream",
     "text": [
      "[2024-09-07 00:45:03,908: INFO: common: yaml file: config\\config.yaml loaded successfully]\n",
      "[2024-09-07 00:45:03,911: INFO: common: yaml file: params.yaml loaded successfully]\n",
      "[2024-09-07 00:45:03,916: INFO: common: yaml file: schema.yaml loaded successfully]\n",
      "[2024-09-07 00:45:03,918: INFO: common: created directory at: artifacts]\n",
      "[2024-09-07 00:45:03,919: INFO: common: created directory at: artifacts/training]\n"
     ]
    }
   ],
   "source": [
    "try:\n",
    "    config = ConfigurationManager()\n",
    "    training_config = config.get_training_config()\n",
    "    training = Training(config=training_config)\n",
    "    training.initiate_Training()\n",
    "except Exception as e:\n",
    "    raise e"
   ]
  },
  {
   "cell_type": "code",
   "execution_count": null,
   "metadata": {},
   "outputs": [],
   "source": []
  }
 ],
 "metadata": {
  "kernelspec": {
   "display_name": "Python 3",
   "language": "python",
   "name": "python3"
  },
  "language_info": {
   "codemirror_mode": {
    "name": "ipython",
    "version": 3
   },
   "file_extension": ".py",
   "mimetype": "text/x-python",
   "name": "python",
   "nbconvert_exporter": "python",
   "pygments_lexer": "ipython3",
   "version": "3.10.8"
  }
 },
 "nbformat": 4,
 "nbformat_minor": 2
}
